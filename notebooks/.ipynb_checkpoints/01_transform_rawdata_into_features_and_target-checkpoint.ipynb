{
 "cells": [
  {
   "cell_type": "code",
   "execution_count": 1,
   "id": "5247ab8b",
   "metadata": {},
   "outputs": [],
   "source": [
    "from src.data import *"
   ]
  },
  {
   "cell_type": "code",
   "execution_count": 2,
   "id": "ca877401",
   "metadata": {},
   "outputs": [
    {
     "data": {
      "text/plain": [
       "['rides_2023-01.parquet',\n",
       " 'rides_2023-02.parquet',\n",
       " 'rides_2023-03.parquet',\n",
       " 'rides_2023-04.parquet',\n",
       " 'rides_2023-05.parquet',\n",
       " 'rides_2023-06.parquet',\n",
       " 'rides_2023-07.parquet',\n",
       " 'rides_2023-08.parquet',\n",
       " 'rides_2023-09.parquet',\n",
       " 'rides_2023-10.parquet']"
      ]
     },
     "execution_count": 2,
     "metadata": {},
     "output_type": "execute_result"
    }
   ],
   "source": [
    "download_files_raw(2022)"
   ]
  },
  {
   "cell_type": "code",
   "execution_count": null,
   "id": "c08a2831",
   "metadata": {},
   "outputs": [],
   "source": []
  }
 ],
 "metadata": {
  "kernelspec": {
   "display_name": ".venv",
   "language": "python",
   "name": ".venv"
  },
  "language_info": {
   "codemirror_mode": {
    "name": "ipython",
    "version": 3
   },
   "file_extension": ".py",
   "mimetype": "text/x-python",
   "name": "python",
   "nbconvert_exporter": "python",
   "pygments_lexer": "ipython3",
   "version": "3.9.17"
  }
 },
 "nbformat": 4,
 "nbformat_minor": 5
}
