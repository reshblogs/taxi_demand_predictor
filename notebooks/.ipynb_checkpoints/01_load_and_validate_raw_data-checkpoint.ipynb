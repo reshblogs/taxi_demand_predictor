{
 "cells": [
  {
   "cell_type": "markdown",
   "id": "9ee30793",
   "metadata": {},
   "source": [
    "#### Download files from url\n",
    "\n",
    "- https://www.nyc.gov/site/tlc/about/tlc-trip-record-data.page\n",
    "- Download 2023's Yellow Taxi trip records (parquet files)"
   ]
  },
  {
   "cell_type": "code",
   "execution_count": 1,
   "id": "c6250ee9",
   "metadata": {},
   "outputs": [
    {
     "data": {
      "text/plain": [
       "'/Users/reshma/AI/MLOPS Project/taxi_demand_predictor'"
      ]
     },
     "execution_count": 1,
     "metadata": {},
     "output_type": "execute_result"
    }
   ],
   "source": [
    "import os\n",
    "import requests\n",
    "from bs4 import BeautifulSoup\n",
    "import re\n",
    "\n",
    "import pandas as pd\n",
    "\n",
    "import matplotlib.pyplot as plt\n",
    "\n",
    "pd.options.display.float_format = '{:.2f}'.format #Supress scientific notation in Pandas\n",
    "\n",
    "project_path = '/Users/reshma/AI/MLOPS Project/taxi_demand_predictor/'\n",
    "os.chdir(project_path)\n",
    "os.getcwd()"
   ]
  },
  {
   "cell_type": "markdown",
   "id": "077ffea7",
   "metadata": {},
   "source": [
    "## 1. Data collection"
   ]
  },
  {
   "cell_type": "code",
   "execution_count": 2,
   "id": "5ce9b3aa",
   "metadata": {},
   "outputs": [],
   "source": [
    "def download_files_raw(url,raw_path,year,month):\n",
    "    \n",
    "    resp_url = requests.get(url)\n",
    "    if resp_url.status_code == 200 :\n",
    "        soup = BeautifulSoup(resp_url.text,\"html.parser\")\n",
    "        yellow_a_tags = soup.find_all(title=\"Yellow Taxi Trip Records\",href=re.compile(year))\n",
    "        files = []\n",
    "        for link in yellow_a_tags:\n",
    "            yellow_href = link.get('href')\n",
    "            #Getting an extra %20 at the end of file name due to space in the original a tag on the website\n",
    "            yellow_href = yellow_href.strip() \n",
    "            resp_file = requests.get(yellow_href)\n",
    "            file_name = resp_file.url.split('/')[4]\n",
    "            file_name = file_name.replace('yellow_tripdata','rides')\n",
    "            os.chdir(raw_path)\n",
    "            if month==\"all\" or month==int(a.split('-')[1].split('.')[0]):\n",
    "                with open(file_name,'wb') as f:\n",
    "                    files.append(file_name)\n",
    "                    f.write(resp_file.content)\n",
    "        return files\n",
    "    else :\n",
    "        return \"Website not found\""
   ]
  },
  {
   "cell_type": "code",
   "execution_count": 3,
   "id": "dce1fed8",
   "metadata": {},
   "outputs": [
    {
     "data": {
      "text/plain": [
       "['rides_2023-01.parquet',\n",
       " 'rides_2023-02.parquet',\n",
       " 'rides_2023-03.parquet',\n",
       " 'rides_2023-04.parquet',\n",
       " 'rides_2023-05.parquet',\n",
       " 'rides_2023-06.parquet',\n",
       " 'rides_2023-07.parquet',\n",
       " 'rides_2023-08.parquet',\n",
       " 'rides_2023-09.parquet']"
      ]
     },
     "execution_count": 3,
     "metadata": {},
     "output_type": "execute_result"
    }
   ],
   "source": [
    "url = 'https://www.nyc.gov/site/tlc/about/tlc-trip-record-data.page'\n",
    "raw_path = project_path + 'data/raw'\n",
    "raw_files = download_files_raw(url,raw_path,year=\"2023\",month=\"all\")\n",
    "raw_files"
   ]
  },
  {
   "cell_type": "markdown",
   "id": "c5a163db",
   "metadata": {},
   "source": [
    "## 2. Data Validation"
   ]
  },
  {
   "cell_type": "code",
   "execution_count": 4,
   "id": "def5fa26",
   "metadata": {},
   "outputs": [],
   "source": [
    "def validate_data_files(raw_files,raw_path,validated_path):\n",
    "    validated_files = []\n",
    "    for f in raw_files :\n",
    "        print(\"### Original file = \",f)\n",
    "        f_path = raw_path + '/' + f\n",
    "        f_y_m = f.split('_')[1].split('.')[0].split('-')\n",
    "        f_y_m = [int(val) for val in f_y_m]\n",
    "        df = pd.read_parquet(path = f_path)\n",
    "        print(\"Original Data : \",df.shape)\n",
    "        \n",
    "        df = df[['tpep_pickup_datetime','PULocationID']]\n",
    "        df.columns = ['pickup_time','pickup_location']  \n",
    "\n",
    "        # Retain only rows that have correct year and month as per data file\n",
    "        df['pickup_year'] = df['pickup_time'].dt.year\n",
    "        df['pickup_month'] = df['pickup_time'].dt.month\n",
    "        df = df[df['pickup_year'] == f_y_m[0]]\n",
    "        df = df[df['pickup_month'] == f_y_m[1]]\n",
    "\n",
    "        df = df[['pickup_time','pickup_location']]\n",
    "        print(\"Validated Data : \",df.shape)\n",
    "        \n",
    "        display(df['pickup_time'].describe(datetime_is_numeric=True))\n",
    "        validated_files.append(f)\n",
    "        val_path = validated_path + f\n",
    "        df.to_parquet(path=val_path) #compression='snappy', index=None\n",
    "        \n",
    "    #Delete raw files\n",
    "    for f in raw_files:\n",
    "        os.remove(raw_path + '/' + f)\n",
    "    \n",
    "    return validated_files"
   ]
  },
  {
   "cell_type": "code",
   "execution_count": 5,
   "id": "df05c9de",
   "metadata": {},
   "outputs": [
    {
     "name": "stdout",
     "output_type": "stream",
     "text": [
      "### Original file =  rides_2023-01.parquet\n",
      "Original Data :  (3066766, 19)\n",
      "Validated Data :  (3066718, 2)\n"
     ]
    },
    {
     "data": {
      "text/plain": [
       "count                          3066718\n",
       "mean     2023-01-17 00:27:48.391111680\n",
       "min                2023-01-01 00:00:00\n",
       "25%      2023-01-09 16:22:12.249999872\n",
       "50%         2023-01-17 08:42:40.500000\n",
       "75%                2023-01-24 16:26:28\n",
       "max                2023-01-31 23:59:59\n",
       "Name: pickup_time, dtype: object"
      ]
     },
     "metadata": {},
     "output_type": "display_data"
    },
    {
     "name": "stdout",
     "output_type": "stream",
     "text": [
      "### Original file =  rides_2023-02.parquet\n",
      "Original Data :  (2913955, 19)\n",
      "Validated Data :  (2913900, 2)\n"
     ]
    },
    {
     "data": {
      "text/plain": [
       "count                          2913900\n",
       "mean     2023-02-15 00:50:29.105288448\n",
       "min                2023-02-01 00:00:00\n",
       "25%                2023-02-08 08:43:12\n",
       "50%                2023-02-14 22:33:13\n",
       "75%                2023-02-22 08:33:59\n",
       "max                2023-02-28 23:59:59\n",
       "Name: pickup_time, dtype: object"
      ]
     },
     "metadata": {},
     "output_type": "display_data"
    },
    {
     "name": "stdout",
     "output_type": "stream",
     "text": [
      "### Original file =  rides_2023-03.parquet\n",
      "Original Data :  (3403766, 19)\n",
      "Validated Data :  (3403577, 2)\n"
     ]
    },
    {
     "data": {
      "text/plain": [
       "count                          3403577\n",
       "mean     2023-03-16 12:04:09.711691776\n",
       "min                2023-03-01 00:00:00\n",
       "25%                2023-03-08 18:48:21\n",
       "50%                2023-03-16 12:18:37\n",
       "75%                2023-03-24 08:55:02\n",
       "max                2023-03-31 23:59:59\n",
       "Name: pickup_time, dtype: object"
      ]
     },
     "metadata": {},
     "output_type": "display_data"
    },
    {
     "name": "stdout",
     "output_type": "stream",
     "text": [
      "### Original file =  rides_2023-04.parquet\n",
      "Original Data :  (3288250, 19)\n",
      "Validated Data :  (3288155, 2)\n"
     ]
    },
    {
     "data": {
      "text/plain": [
       "count                       3288155\n",
       "mean     2023-04-16 08:02:08.040672\n",
       "min             2023-04-01 00:00:00\n",
       "25%             2023-04-08 18:29:11\n",
       "50%             2023-04-16 10:47:44\n",
       "75%             2023-04-23 16:24:33\n",
       "max             2023-04-30 23:59:57\n",
       "Name: pickup_time, dtype: object"
      ]
     },
     "metadata": {},
     "output_type": "display_data"
    },
    {
     "name": "stdout",
     "output_type": "stream",
     "text": [
      "### Original file =  rides_2023-05.parquet\n",
      "Original Data :  (3513649, 19)\n",
      "Validated Data :  (3513599, 2)\n"
     ]
    },
    {
     "data": {
      "text/plain": [
       "count                          3513599\n",
       "mean     2023-05-16 05:26:10.975884544\n",
       "min                2023-05-01 00:00:06\n",
       "25%         2023-05-08 18:57:59.500000\n",
       "50%                2023-05-16 09:27:21\n",
       "75%         2023-05-23 14:57:14.500000\n",
       "max                2023-05-31 23:59:56\n",
       "Name: pickup_time, dtype: object"
      ]
     },
     "metadata": {},
     "output_type": "display_data"
    },
    {
     "name": "stdout",
     "output_type": "stream",
     "text": [
      "### Original file =  rides_2023-06.parquet\n",
      "Original Data :  (3307234, 19)\n",
      "Validated Data :  (3307193, 2)\n"
     ]
    },
    {
     "data": {
      "text/plain": [
       "count                          3307193\n",
       "mean     2023-06-15 18:27:04.859210496\n",
       "min                2023-06-01 00:00:00\n",
       "25%                2023-06-08 09:12:52\n",
       "50%                2023-06-15 14:15:27\n",
       "75%                2023-06-23 02:25:03\n",
       "max                2023-06-30 23:59:59\n",
       "Name: pickup_time, dtype: object"
      ]
     },
     "metadata": {},
     "output_type": "display_data"
    },
    {
     "name": "stdout",
     "output_type": "stream",
     "text": [
      "### Original file =  rides_2023-07.parquet\n",
      "Original Data :  (2907108, 19)\n",
      "Validated Data :  (2907049, 2)\n"
     ]
    },
    {
     "data": {
      "text/plain": [
       "count                          2907049\n",
       "mean     2023-07-17 07:12:31.895691520\n",
       "min                2023-07-01 00:00:01\n",
       "25%                2023-07-10 09:39:56\n",
       "50%                2023-07-17 15:12:29\n",
       "75%                2023-07-24 18:17:25\n",
       "max                2023-07-31 23:59:55\n",
       "Name: pickup_time, dtype: object"
      ]
     },
     "metadata": {},
     "output_type": "display_data"
    },
    {
     "name": "stdout",
     "output_type": "stream",
     "text": [
      "### Original file =  rides_2023-08.parquet\n",
      "Original Data :  (2824209, 19)\n",
      "Validated Data :  (2824175, 2)\n"
     ]
    },
    {
     "data": {
      "text/plain": [
       "count                          2824175\n",
       "mean     2023-08-16 08:30:48.118145024\n",
       "min                2023-08-01 00:00:00\n",
       "25%                2023-08-08 16:26:17\n",
       "50%                2023-08-16 09:53:25\n",
       "75%         2023-08-24 07:07:35.500000\n",
       "max                2023-08-31 23:59:59\n",
       "Name: pickup_time, dtype: object"
      ]
     },
     "metadata": {},
     "output_type": "display_data"
    },
    {
     "name": "stdout",
     "output_type": "stream",
     "text": [
      "### Original file =  rides_2023-09.parquet\n",
      "Original Data :  (2846722, 19)\n",
      "Validated Data :  (2846690, 2)\n"
     ]
    },
    {
     "data": {
      "text/plain": [
       "count                          2846690\n",
       "mean     2023-09-15 14:06:49.598458880\n",
       "min                2023-09-01 00:00:00\n",
       "25%                2023-09-08 12:29:51\n",
       "50%         2023-09-14 15:46:29.500000\n",
       "75%      2023-09-21 08:22:15.750000128\n",
       "max                2023-09-30 23:59:59\n",
       "Name: pickup_time, dtype: object"
      ]
     },
     "metadata": {},
     "output_type": "display_data"
    },
    {
     "data": {
      "text/plain": [
       "['rides_2023-01.parquet',\n",
       " 'rides_2023-02.parquet',\n",
       " 'rides_2023-03.parquet',\n",
       " 'rides_2023-04.parquet',\n",
       " 'rides_2023-05.parquet',\n",
       " 'rides_2023-06.parquet',\n",
       " 'rides_2023-07.parquet',\n",
       " 'rides_2023-08.parquet',\n",
       " 'rides_2023-09.parquet']"
      ]
     },
     "execution_count": 5,
     "metadata": {},
     "output_type": "execute_result"
    }
   ],
   "source": [
    "validated_path = project_path + 'data/validated/'\n",
    "validated_files = validate_data_files(raw_files,raw_path,validated_path)\n",
    "validated_files"
   ]
  }
 ],
 "metadata": {
  "kernelspec": {
   "display_name": ".venv",
   "language": "python",
   "name": ".venv"
  },
  "language_info": {
   "codemirror_mode": {
    "name": "ipython",
    "version": 3
   },
   "file_extension": ".py",
   "mimetype": "text/x-python",
   "name": "python",
   "nbconvert_exporter": "python",
   "pygments_lexer": "ipython3",
   "version": "3.9.17"
  }
 },
 "nbformat": 4,
 "nbformat_minor": 5
}
