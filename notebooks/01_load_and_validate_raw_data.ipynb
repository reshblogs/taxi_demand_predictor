{
 "cells": [
  {
   "cell_type": "markdown",
   "id": "9ee30793",
   "metadata": {},
   "source": [
    "#### Download files from url\n",
    "\n",
    "- https://www.nyc.gov/site/tlc/about/tlc-trip-record-data.page\n",
    "- Download 2023's Yellow Taxi trip records (parquet files)"
   ]
  },
  {
   "cell_type": "code",
   "execution_count": 2,
   "id": "b4606a7a",
   "metadata": {},
   "outputs": [
    {
     "data": {
      "text/plain": [
       "'/Users/reshma/AI/MLOPS Project/taxi_demand_predictor/notebooks'"
      ]
     },
     "execution_count": 2,
     "metadata": {},
     "output_type": "execute_result"
    }
   ],
   "source": [
    "import os\n",
    "os.getcwd()"
   ]
  },
  {
   "cell_type": "code",
   "execution_count": 3,
   "id": "c6250ee9",
   "metadata": {},
   "outputs": [],
   "source": [
    "import requests\n",
    "from bs4 import BeautifulSoup\n",
    "import re"
   ]
  },
  {
   "cell_type": "code",
   "execution_count": 4,
   "id": "2ebdf42f",
   "metadata": {},
   "outputs": [
    {
     "name": "stdout",
     "output_type": "stream",
     "text": [
      "200\n"
     ]
    }
   ],
   "source": [
    "url = 'https://www.nyc.gov/site/tlc/about/tlc-trip-record-data.page'\n",
    "resp_url = requests.get(url)\n",
    "\n",
    "if resp_url.status_code == 200 :\n",
    "  print(resp_url.status_code)"
   ]
  },
  {
   "cell_type": "code",
   "execution_count": 6,
   "id": "5ce9b3aa",
   "metadata": {},
   "outputs": [
    {
     "name": "stdout",
     "output_type": "stream",
     "text": [
      "/Users/reshma/AI/MLOPS Project/taxi_demand_predictor/data\n",
      "Downloading file :  yellow_tripdata_2023-01.parquet\n",
      "/Users/reshma/AI/MLOPS Project/taxi_demand_predictor/data\n",
      "Downloading file :  yellow_tripdata_2023-02.parquet\n",
      "/Users/reshma/AI/MLOPS Project/taxi_demand_predictor/data\n",
      "Downloading file :  yellow_tripdata_2023-03.parquet\n",
      "/Users/reshma/AI/MLOPS Project/taxi_demand_predictor/data\n",
      "Downloading file :  yellow_tripdata_2023-04.parquet\n",
      "/Users/reshma/AI/MLOPS Project/taxi_demand_predictor/data\n",
      "Downloading file :  yellow_tripdata_2023-05.parquet\n",
      "/Users/reshma/AI/MLOPS Project/taxi_demand_predictor/data\n",
      "Downloading file :  yellow_tripdata_2023-06.parquet\n"
     ]
    }
   ],
   "source": [
    "soup = BeautifulSoup(resp_url.text,\"html.parser\")\n",
    "yellow_a_tags = soup.find_all(title=\"Yellow Taxi Trip Records\",href=re.compile(\"2023\"))\n",
    "for link in yellow_a_tags:\n",
    "    yellow_href = link.get('href')\n",
    "    \n",
    "    #Getting an extra %20 at the end of file name due to space in the original a tag on the website\n",
    "    yellow_href = yellow_href.strip() \n",
    "    \n",
    "    resp_file = requests.get(yellow_href)\n",
    "    file_name = resp_file.url.split('/')[4]\n",
    "    %cd '/Users/reshma/AI/MLOPS Project/taxi_demand_predictor/data'\n",
    "    with open(file_name,'wb') as f:\n",
    "        print(\"Downloading file : \",file_name)\n",
    "        f.write(resp_file.content)"
   ]
  },
  {
   "cell_type": "code",
   "execution_count": null,
   "id": "77e9382b",
   "metadata": {},
   "outputs": [],
   "source": []
  }
 ],
 "metadata": {
  "kernelspec": {
   "display_name": ".venv",
   "language": "python",
   "name": ".venv"
  },
  "language_info": {
   "codemirror_mode": {
    "name": "ipython",
    "version": 3
   },
   "file_extension": ".py",
   "mimetype": "text/x-python",
   "name": "python",
   "nbconvert_exporter": "python",
   "pygments_lexer": "ipython3",
   "version": "3.9.17"
  }
 },
 "nbformat": 4,
 "nbformat_minor": 5
}
