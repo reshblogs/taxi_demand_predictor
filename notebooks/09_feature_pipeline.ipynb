{
 "cells": [
  {
   "cell_type": "code",
   "execution_count": 10,
   "id": "ba40eec1",
   "metadata": {},
   "outputs": [],
   "source": [
    "from datetime import datetime,timedelta\n",
    "import hopsworks\n",
    "\n",
    "from src.data import *\n",
    "from src.paths import *\n",
    "from src.config import *"
   ]
  },
  {
   "cell_type": "code",
   "execution_count": 2,
   "id": "4479c598",
   "metadata": {},
   "outputs": [
    {
     "name": "stdout",
     "output_type": "stream",
     "text": [
      "Fetch data for the past 28 days : 2024-01-24 13:00:00 to 2024-02-21 13:00:00\n"
     ]
    }
   ],
   "source": [
    "# Fix dates to fetch data for the last 28 days\n",
    "\n",
    "fetch_data_to = datetime.now().replace(minute=0,second=0,microsecond=0)\n",
    "fetch_data_from = fetch_data_to - timedelta(days=28)\n",
    "print(\"Fetch data for the past 28 days :\",fetch_data_from,\"to\",fetch_data_to)"
   ]
  },
  {
   "cell_type": "markdown",
   "id": "d15b9a79",
   "metadata": {},
   "source": [
    "#### 1. Fetch (a.k.a Simulate a fetch) data every hour from warehouse\n",
    "\n",
    "- But we dont have access to NYC Association data warehouse\n",
    "- Instead we simulate a call to DW\n",
    "    - Fetch 2021's data instead"
   ]
  },
  {
   "cell_type": "code",
   "execution_count": 3,
   "id": "4df2ce90",
   "metadata": {},
   "outputs": [],
   "source": [
    "def fetch_raw_data(fetch_data_from,fetch_data_to):\n",
    "    fetch_data_from = fetch_data_from - timedelta(days=365*3)\n",
    "    fetch_data_to = fetch_data_to - timedelta(days=365*3)\n",
    "    print(\"Simulating call to DW (Fetch 2021 data) :\",fetch_data_from,\"to\",fetch_data_to)\n",
    "    \n",
    "    download_files_raw_monthly(fetch_data_from.year,fetch_data_from.month)\n",
    "    download_files_raw_monthly(fetch_data_to.year,fetch_data_to.month)"
   ]
  },
  {
   "cell_type": "code",
   "execution_count": 4,
   "id": "cf24fa13",
   "metadata": {},
   "outputs": [
    {
     "name": "stdout",
     "output_type": "stream",
     "text": [
      "Simulating call to DW (Fetch 2021 data) : 2021-01-24 13:00:00 to 2021-02-21 13:00:00\n",
      "Downloaded files :  ['rides_2021-01.parquet']\n",
      "Downloaded files :  ['rides_2021-02.parquet']\n"
     ]
    }
   ],
   "source": [
    "fetch_raw_data(fetch_data_from,fetch_data_to)"
   ]
  },
  {
   "cell_type": "markdown",
   "id": "8123dcee",
   "metadata": {},
   "source": [
    "#### 2. Validate raw data"
   ]
  },
  {
   "cell_type": "code",
   "execution_count": 5,
   "id": "2c952810",
   "metadata": {},
   "outputs": [
    {
     "data": {
      "text/html": [
       "<div>\n",
       "<style scoped>\n",
       "    .dataframe tbody tr th:only-of-type {\n",
       "        vertical-align: middle;\n",
       "    }\n",
       "\n",
       "    .dataframe tbody tr th {\n",
       "        vertical-align: top;\n",
       "    }\n",
       "\n",
       "    .dataframe thead th {\n",
       "        text-align: right;\n",
       "    }\n",
       "</style>\n",
       "<table border=\"1\" class=\"dataframe\">\n",
       "  <thead>\n",
       "    <tr style=\"text-align: right;\">\n",
       "      <th></th>\n",
       "      <th>pickup_time</th>\n",
       "      <th>pickup_location</th>\n",
       "    </tr>\n",
       "  </thead>\n",
       "  <tbody>\n",
       "    <tr>\n",
       "      <th>0</th>\n",
       "      <td>2021-01-01 00:30:10</td>\n",
       "      <td>142</td>\n",
       "    </tr>\n",
       "    <tr>\n",
       "      <th>1</th>\n",
       "      <td>2021-01-01 00:51:20</td>\n",
       "      <td>238</td>\n",
       "    </tr>\n",
       "    <tr>\n",
       "      <th>2</th>\n",
       "      <td>2021-01-01 00:43:30</td>\n",
       "      <td>132</td>\n",
       "    </tr>\n",
       "    <tr>\n",
       "      <th>3</th>\n",
       "      <td>2021-01-01 00:15:48</td>\n",
       "      <td>138</td>\n",
       "    </tr>\n",
       "    <tr>\n",
       "      <th>4</th>\n",
       "      <td>2021-01-01 00:31:49</td>\n",
       "      <td>68</td>\n",
       "    </tr>\n",
       "    <tr>\n",
       "      <th>...</th>\n",
       "      <td>...</td>\n",
       "      <td>...</td>\n",
       "    </tr>\n",
       "    <tr>\n",
       "      <th>2741418</th>\n",
       "      <td>2021-02-28 23:02:08</td>\n",
       "      <td>265</td>\n",
       "    </tr>\n",
       "    <tr>\n",
       "      <th>2741419</th>\n",
       "      <td>2021-02-28 23:27:00</td>\n",
       "      <td>68</td>\n",
       "    </tr>\n",
       "    <tr>\n",
       "      <th>2741420</th>\n",
       "      <td>2021-02-28 23:18:05</td>\n",
       "      <td>68</td>\n",
       "    </tr>\n",
       "    <tr>\n",
       "      <th>2741421</th>\n",
       "      <td>2021-02-28 23:41:07</td>\n",
       "      <td>113</td>\n",
       "    </tr>\n",
       "    <tr>\n",
       "      <th>2741422</th>\n",
       "      <td>2021-02-28 23:04:15</td>\n",
       "      <td>226</td>\n",
       "    </tr>\n",
       "  </tbody>\n",
       "</table>\n",
       "<p>2741423 rows × 2 columns</p>\n",
       "</div>"
      ],
      "text/plain": [
       "                pickup_time  pickup_location\n",
       "0       2021-01-01 00:30:10              142\n",
       "1       2021-01-01 00:51:20              238\n",
       "2       2021-01-01 00:43:30              132\n",
       "3       2021-01-01 00:15:48              138\n",
       "4       2021-01-01 00:31:49               68\n",
       "...                     ...              ...\n",
       "2741418 2021-02-28 23:02:08              265\n",
       "2741419 2021-02-28 23:27:00               68\n",
       "2741420 2021-02-28 23:18:05               68\n",
       "2741421 2021-02-28 23:41:07              113\n",
       "2741422 2021-02-28 23:04:15              226\n",
       "\n",
       "[2741423 rows x 2 columns]"
      ]
     },
     "execution_count": 5,
     "metadata": {},
     "output_type": "execute_result"
    }
   ],
   "source": [
    "validate_data_files()"
   ]
  },
  {
   "cell_type": "markdown",
   "id": "78abaf53",
   "metadata": {},
   "source": [
    "#### 3. Transform the validated data into Time Series data\n",
    "\n",
    "- Pretend that the time series data is the latest one\n",
    "    - Adjust dates accordingly"
   ]
  },
  {
   "cell_type": "code",
   "execution_count": 6,
   "id": "d275575b",
   "metadata": {},
   "outputs": [
    {
     "data": {
      "text/html": [
       "<div>\n",
       "<style scoped>\n",
       "    .dataframe tbody tr th:only-of-type {\n",
       "        vertical-align: middle;\n",
       "    }\n",
       "\n",
       "    .dataframe tbody tr th {\n",
       "        vertical-align: top;\n",
       "    }\n",
       "\n",
       "    .dataframe thead th {\n",
       "        text-align: right;\n",
       "    }\n",
       "</style>\n",
       "<table border=\"1\" class=\"dataframe\">\n",
       "  <thead>\n",
       "    <tr style=\"text-align: right;\">\n",
       "      <th></th>\n",
       "      <th>pickup_hour</th>\n",
       "      <th>pickup_location_id</th>\n",
       "      <th>rides</th>\n",
       "    </tr>\n",
       "  </thead>\n",
       "  <tbody>\n",
       "    <tr>\n",
       "      <th>0</th>\n",
       "      <td>2024-01-24 13:00:00</td>\n",
       "      <td>120</td>\n",
       "      <td>0</td>\n",
       "    </tr>\n",
       "    <tr>\n",
       "      <th>1</th>\n",
       "      <td>2024-01-24 13:00:00</td>\n",
       "      <td>70</td>\n",
       "      <td>8</td>\n",
       "    </tr>\n",
       "    <tr>\n",
       "      <th>2</th>\n",
       "      <td>2024-01-24 13:00:00</td>\n",
       "      <td>175</td>\n",
       "      <td>0</td>\n",
       "    </tr>\n",
       "    <tr>\n",
       "      <th>3</th>\n",
       "      <td>2024-01-24 13:00:00</td>\n",
       "      <td>121</td>\n",
       "      <td>0</td>\n",
       "    </tr>\n",
       "    <tr>\n",
       "      <th>4</th>\n",
       "      <td>2024-01-24 13:00:00</td>\n",
       "      <td>28</td>\n",
       "      <td>1</td>\n",
       "    </tr>\n",
       "    <tr>\n",
       "      <th>...</th>\n",
       "      <td>...</td>\n",
       "      <td>...</td>\n",
       "      <td>...</td>\n",
       "    </tr>\n",
       "    <tr>\n",
       "      <th>174975</th>\n",
       "      <td>2024-02-21 13:00:00</td>\n",
       "      <td>8</td>\n",
       "      <td>0</td>\n",
       "    </tr>\n",
       "    <tr>\n",
       "      <th>174976</th>\n",
       "      <td>2024-02-21 13:00:00</td>\n",
       "      <td>99</td>\n",
       "      <td>0</td>\n",
       "    </tr>\n",
       "    <tr>\n",
       "      <th>174977</th>\n",
       "      <td>2024-02-21 13:00:00</td>\n",
       "      <td>111</td>\n",
       "      <td>0</td>\n",
       "    </tr>\n",
       "    <tr>\n",
       "      <th>174978</th>\n",
       "      <td>2024-02-21 13:00:00</td>\n",
       "      <td>176</td>\n",
       "      <td>0</td>\n",
       "    </tr>\n",
       "    <tr>\n",
       "      <th>174979</th>\n",
       "      <td>2024-02-21 13:00:00</td>\n",
       "      <td>199</td>\n",
       "      <td>0</td>\n",
       "    </tr>\n",
       "  </tbody>\n",
       "</table>\n",
       "<p>174980 rows × 3 columns</p>\n",
       "</div>"
      ],
      "text/plain": [
       "               pickup_hour  pickup_location_id  rides\n",
       "0      2024-01-24 13:00:00                 120      0\n",
       "1      2024-01-24 13:00:00                  70      8\n",
       "2      2024-01-24 13:00:00                 175      0\n",
       "3      2024-01-24 13:00:00                 121      0\n",
       "4      2024-01-24 13:00:00                  28      1\n",
       "...                    ...                 ...    ...\n",
       "174975 2024-02-21 13:00:00                   8      0\n",
       "174976 2024-02-21 13:00:00                  99      0\n",
       "174977 2024-02-21 13:00:00                 111      0\n",
       "174978 2024-02-21 13:00:00                 176      0\n",
       "174979 2024-02-21 13:00:00                 199      0\n",
       "\n",
       "[174980 rows x 3 columns]"
      ]
     },
     "execution_count": 6,
     "metadata": {},
     "output_type": "execute_result"
    }
   ],
   "source": [
    "taxi_data_ts = transform_to_timeseries()\n",
    "taxi_data_ts.columns = ['pickup_hour','pickup_location_id','rides']\n",
    "taxi_data_ts['pickup_hour'] = taxi_data_ts['pickup_hour'] + timedelta(days=365*3)\n",
    "\n",
    "taxi_data_ts = taxi_data_ts[(taxi_data_ts['pickup_hour'] >= fetch_data_from)&(taxi_data_ts['pickup_hour'] <= fetch_data_to)]\n",
    "taxi_data_ts.reset_index(drop=True,inplace=True)\n",
    "taxi_data_ts"
   ]
  },
  {
   "cell_type": "markdown",
   "id": "24ec45a1",
   "metadata": {},
   "source": [
    "#### 4. Hopsworks feature store"
   ]
  },
  {
   "cell_type": "code",
   "execution_count": 11,
   "id": "512acef6",
   "metadata": {},
   "outputs": [
    {
     "name": "stdout",
     "output_type": "stream",
     "text": [
      "Connected. Call `.close()` to terminate connection gracefully.\n",
      "\n",
      "Logged in to project, explore it here https://c.app.hopsworks.ai:443/p/467093\n",
      "Connected. Call `.close()` to terminate connection gracefully.\n"
     ]
    }
   ],
   "source": [
    "### Connecting to Hopsworks Feature Store\n",
    "\n",
    "\n",
    "hw_project = hopsworks.login(project=HOPSWORKS_PROJECT,api_key_value=HOPSWORKS_API_KEY)\n",
    "fs = hw_project.get_feature_store()"
   ]
  },
  {
   "cell_type": "code",
   "execution_count": 13,
   "id": "e7f844be",
   "metadata": {},
   "outputs": [],
   "source": [
    "### Connect to the Feature Group\n",
    "\n",
    "fg = fs.get_or_create_feature_group(name=FEATURE_GROUP_NAME,\n",
    "                             description='Hourly data of taxi demand in NYC in TimeSeries format',\n",
    "                             version=FEATURE_GROUP_VERSION,\n",
    "                             primary_key=['pickup_hour','pickup_location_id'],\n",
    "                             event_time='pickup_hour')"
   ]
  },
  {
   "cell_type": "code",
   "execution_count": 14,
   "id": "287395d7",
   "metadata": {},
   "outputs": [
    {
     "data": {
      "application/vnd.jupyter.widget-view+json": {
       "model_id": "6760a21e09d0409582fff8797e30ca90",
       "version_major": 2,
       "version_minor": 0
      },
      "text/plain": [
       "Uploading Dataframe: 0.00% |          | Rows 0/174980 | Elapsed Time: 00:00 | Remaining Time: ?"
      ]
     },
     "metadata": {},
     "output_type": "display_data"
    },
    {
     "name": "stdout",
     "output_type": "stream",
     "text": [
      "Launching job: taxi_time_series_hourly_1_offline_fg_materialization\n",
      "Job started successfully, you can follow the progress at \n",
      "https://c.app.hopsworks.ai/p/467093/jobs/named/taxi_time_series_hourly_1_offline_fg_materialization/executions\n",
      "CPU times: user 7.17 s, sys: 477 ms, total: 7.65 s\n",
      "Wall time: 15.5 s\n"
     ]
    },
    {
     "data": {
      "text/plain": [
       "(<hsfs.core.job.Job at 0x12cb45df0>, None)"
      ]
     },
     "execution_count": 14,
     "metadata": {},
     "output_type": "execute_result"
    }
   ],
   "source": [
    "%%time\n",
    "\n",
    "### Insert data into Feature Group and wait for it to finish\n",
    "\n",
    "fg.insert(taxi_data_ts)"
   ]
  },
  {
   "cell_type": "code",
   "execution_count": null,
   "id": "2187ed0a",
   "metadata": {},
   "outputs": [],
   "source": []
  }
 ],
 "metadata": {
  "kernelspec": {
   "display_name": ".venv",
   "language": "python",
   "name": ".venv"
  },
  "language_info": {
   "codemirror_mode": {
    "name": "ipython",
    "version": 3
   },
   "file_extension": ".py",
   "mimetype": "text/x-python",
   "name": "python",
   "nbconvert_exporter": "python",
   "pygments_lexer": "ipython3",
   "version": "3.9.17"
  }
 },
 "nbformat": 4,
 "nbformat_minor": 5
}
