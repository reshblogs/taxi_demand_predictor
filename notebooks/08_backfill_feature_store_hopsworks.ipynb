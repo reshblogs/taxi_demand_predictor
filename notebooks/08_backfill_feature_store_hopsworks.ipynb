{
 "cells": [
  {
   "cell_type": "code",
   "execution_count": 7,
   "id": "3aedc2e3",
   "metadata": {},
   "outputs": [],
   "source": [
    "from datetime import datetime\n",
    "import hopsworks\n",
    "\n",
    "from src.data import *\n",
    "from src.config import *"
   ]
  },
  {
   "cell_type": "markdown",
   "id": "7f35b651",
   "metadata": {},
   "source": [
    "#### 1. Download Raw data"
   ]
  },
  {
   "cell_type": "code",
   "execution_count": 3,
   "id": "b41cb54b",
   "metadata": {},
   "outputs": [
    {
     "name": "stdout",
     "output_type": "stream",
     "text": [
      "Downloaded files :  ['rides_2022-01.parquet', 'rides_2022-02.parquet', 'rides_2022-03.parquet', 'rides_2022-04.parquet', 'rides_2022-05.parquet', 'rides_2022-06.parquet', 'rides_2022-07.parquet', 'rides_2022-08.parquet', 'rides_2022-09.parquet', 'rides_2022-10.parquet', 'rides_2022-11.parquet', 'rides_2022-12.parquet']\n",
      "Downloaded files :  ['rides_2023-01.parquet', 'rides_2023-02.parquet', 'rides_2023-03.parquet', 'rides_2023-04.parquet', 'rides_2023-05.parquet', 'rides_2023-06.parquet', 'rides_2023-07.parquet', 'rides_2023-08.parquet', 'rides_2023-09.parquet', 'rides_2023-10.parquet', 'rides_2023-11.parquet']\n",
      "Downloaded files :  []\n",
      "Downloaded raw files from 2022 to 2024\n",
      "CPU times: user 8.43 s, sys: 4.47 s, total: 12.9 s\n",
      "Wall time: 1min 36s\n"
     ]
    }
   ],
   "source": [
    "%%time\n",
    "\n",
    "from_year = 2022\n",
    "to_year = datetime.now().year\n",
    "  \n",
    "#Download all raw files   \n",
    "for year in range(from_year,to_year+1):\n",
    "    download_files_raw(year)\n",
    "print(\"Downloaded raw files from\",from_year,\"to\",to_year)"
   ]
  },
  {
   "cell_type": "markdown",
   "id": "0e5ebe9f",
   "metadata": {},
   "source": [
    "#### 2. Validate raw data"
   ]
  },
  {
   "cell_type": "code",
   "execution_count": 4,
   "id": "5f1804ff",
   "metadata": {},
   "outputs": [
    {
     "name": "stdout",
     "output_type": "stream",
     "text": [
      "CPU times: user 43.9 s, sys: 14.7 s, total: 58.6 s\n",
      "Wall time: 38.4 s\n"
     ]
    },
    {
     "data": {
      "text/html": [
       "<div>\n",
       "<style scoped>\n",
       "    .dataframe tbody tr th:only-of-type {\n",
       "        vertical-align: middle;\n",
       "    }\n",
       "\n",
       "    .dataframe tbody tr th {\n",
       "        vertical-align: top;\n",
       "    }\n",
       "\n",
       "    .dataframe thead th {\n",
       "        text-align: right;\n",
       "    }\n",
       "</style>\n",
       "<table border=\"1\" class=\"dataframe\">\n",
       "  <thead>\n",
       "    <tr style=\"text-align: right;\">\n",
       "      <th></th>\n",
       "      <th>pickup_time</th>\n",
       "      <th>pickup_location</th>\n",
       "    </tr>\n",
       "  </thead>\n",
       "  <tbody>\n",
       "    <tr>\n",
       "      <th>0</th>\n",
       "      <td>2022-01-01 00:35:40</td>\n",
       "      <td>142</td>\n",
       "    </tr>\n",
       "    <tr>\n",
       "      <th>1</th>\n",
       "      <td>2022-01-01 00:33:43</td>\n",
       "      <td>236</td>\n",
       "    </tr>\n",
       "    <tr>\n",
       "      <th>2</th>\n",
       "      <td>2022-01-01 00:53:21</td>\n",
       "      <td>166</td>\n",
       "    </tr>\n",
       "    <tr>\n",
       "      <th>3</th>\n",
       "      <td>2022-01-01 00:25:21</td>\n",
       "      <td>114</td>\n",
       "    </tr>\n",
       "    <tr>\n",
       "      <th>4</th>\n",
       "      <td>2022-01-01 00:36:48</td>\n",
       "      <td>68</td>\n",
       "    </tr>\n",
       "    <tr>\n",
       "      <th>...</th>\n",
       "      <td>...</td>\n",
       "      <td>...</td>\n",
       "    </tr>\n",
       "    <tr>\n",
       "      <th>74587601</th>\n",
       "      <td>2023-11-30 23:39:21</td>\n",
       "      <td>161</td>\n",
       "    </tr>\n",
       "    <tr>\n",
       "      <th>74587602</th>\n",
       "      <td>2023-11-30 23:01:55</td>\n",
       "      <td>232</td>\n",
       "    </tr>\n",
       "    <tr>\n",
       "      <th>74587603</th>\n",
       "      <td>2023-11-30 23:23:16</td>\n",
       "      <td>113</td>\n",
       "    </tr>\n",
       "    <tr>\n",
       "      <th>74587604</th>\n",
       "      <td>2023-11-30 23:39:22</td>\n",
       "      <td>90</td>\n",
       "    </tr>\n",
       "    <tr>\n",
       "      <th>74587605</th>\n",
       "      <td>2023-11-30 23:13:48</td>\n",
       "      <td>114</td>\n",
       "    </tr>\n",
       "  </tbody>\n",
       "</table>\n",
       "<p>74587606 rows × 2 columns</p>\n",
       "</div>"
      ],
      "text/plain": [
       "                 pickup_time  pickup_location\n",
       "0        2022-01-01 00:35:40              142\n",
       "1        2022-01-01 00:33:43              236\n",
       "2        2022-01-01 00:53:21              166\n",
       "3        2022-01-01 00:25:21              114\n",
       "4        2022-01-01 00:36:48               68\n",
       "...                      ...              ...\n",
       "74587601 2023-11-30 23:39:21              161\n",
       "74587602 2023-11-30 23:01:55              232\n",
       "74587603 2023-11-30 23:23:16              113\n",
       "74587604 2023-11-30 23:39:22               90\n",
       "74587605 2023-11-30 23:13:48              114\n",
       "\n",
       "[74587606 rows x 2 columns]"
      ]
     },
     "execution_count": 4,
     "metadata": {},
     "output_type": "execute_result"
    }
   ],
   "source": [
    "%%time\n",
    "\n",
    "validate_data_files()"
   ]
  },
  {
   "cell_type": "markdown",
   "id": "8d0136f8",
   "metadata": {},
   "source": [
    "#### 3. Transform the validated data into Time Series data"
   ]
  },
  {
   "cell_type": "code",
   "execution_count": 5,
   "id": "55692e05",
   "metadata": {},
   "outputs": [
    {
     "name": "stdout",
     "output_type": "stream",
     "text": [
      "CPU times: user 2min 4s, sys: 1min 45s, total: 3min 49s\n",
      "Wall time: 3min 55s\n"
     ]
    },
    {
     "data": {
      "text/html": [
       "<div>\n",
       "<style scoped>\n",
       "    .dataframe tbody tr th:only-of-type {\n",
       "        vertical-align: middle;\n",
       "    }\n",
       "\n",
       "    .dataframe tbody tr th {\n",
       "        vertical-align: top;\n",
       "    }\n",
       "\n",
       "    .dataframe thead th {\n",
       "        text-align: right;\n",
       "    }\n",
       "</style>\n",
       "<table border=\"1\" class=\"dataframe\">\n",
       "  <thead>\n",
       "    <tr style=\"text-align: right;\">\n",
       "      <th></th>\n",
       "      <th>pickup_hour</th>\n",
       "      <th>pickup_location_id</th>\n",
       "      <th>rides</th>\n",
       "    </tr>\n",
       "  </thead>\n",
       "  <tbody>\n",
       "    <tr>\n",
       "      <th>0</th>\n",
       "      <td>2022-01-01 00:00:00</td>\n",
       "      <td>87</td>\n",
       "      <td>32</td>\n",
       "    </tr>\n",
       "    <tr>\n",
       "      <th>1</th>\n",
       "      <td>2022-01-01 00:00:00</td>\n",
       "      <td>237</td>\n",
       "      <td>181</td>\n",
       "    </tr>\n",
       "    <tr>\n",
       "      <th>2</th>\n",
       "      <td>2022-01-01 00:00:00</td>\n",
       "      <td>41</td>\n",
       "      <td>12</td>\n",
       "    </tr>\n",
       "    <tr>\n",
       "      <th>3</th>\n",
       "      <td>2022-01-01 00:00:00</td>\n",
       "      <td>265</td>\n",
       "      <td>4</td>\n",
       "    </tr>\n",
       "    <tr>\n",
       "      <th>4</th>\n",
       "      <td>2022-01-01 00:00:00</td>\n",
       "      <td>148</td>\n",
       "      <td>104</td>\n",
       "    </tr>\n",
       "    <tr>\n",
       "      <th>...</th>\n",
       "      <td>...</td>\n",
       "      <td>...</td>\n",
       "      <td>...</td>\n",
       "    </tr>\n",
       "    <tr>\n",
       "      <th>4395307</th>\n",
       "      <td>2023-11-30 23:00:00</td>\n",
       "      <td>253</td>\n",
       "      <td>0</td>\n",
       "    </tr>\n",
       "    <tr>\n",
       "      <th>4395308</th>\n",
       "      <td>2023-11-30 23:00:00</td>\n",
       "      <td>254</td>\n",
       "      <td>0</td>\n",
       "    </tr>\n",
       "    <tr>\n",
       "      <th>4395309</th>\n",
       "      <td>2023-11-30 23:00:00</td>\n",
       "      <td>257</td>\n",
       "      <td>0</td>\n",
       "    </tr>\n",
       "    <tr>\n",
       "      <th>4395310</th>\n",
       "      <td>2023-11-30 23:00:00</td>\n",
       "      <td>258</td>\n",
       "      <td>0</td>\n",
       "    </tr>\n",
       "    <tr>\n",
       "      <th>4395311</th>\n",
       "      <td>2023-11-30 23:00:00</td>\n",
       "      <td>259</td>\n",
       "      <td>0</td>\n",
       "    </tr>\n",
       "  </tbody>\n",
       "</table>\n",
       "<p>4395312 rows × 3 columns</p>\n",
       "</div>"
      ],
      "text/plain": [
       "                pickup_hour  pickup_location_id  rides\n",
       "0       2022-01-01 00:00:00                  87     32\n",
       "1       2022-01-01 00:00:00                 237    181\n",
       "2       2022-01-01 00:00:00                  41     12\n",
       "3       2022-01-01 00:00:00                 265      4\n",
       "4       2022-01-01 00:00:00                 148    104\n",
       "...                     ...                 ...    ...\n",
       "4395307 2023-11-30 23:00:00                 253      0\n",
       "4395308 2023-11-30 23:00:00                 254      0\n",
       "4395309 2023-11-30 23:00:00                 257      0\n",
       "4395310 2023-11-30 23:00:00                 258      0\n",
       "4395311 2023-11-30 23:00:00                 259      0\n",
       "\n",
       "[4395312 rows x 3 columns]"
      ]
     },
     "execution_count": 5,
     "metadata": {},
     "output_type": "execute_result"
    }
   ],
   "source": [
    "%%time\n",
    "\n",
    "taxi_data_ts = transform_to_timeseries()\n",
    "taxi_data_ts.columns = ['pickup_hour','pickup_location_id','rides']\n",
    "taxi_data_ts"
   ]
  },
  {
   "cell_type": "markdown",
   "id": "6a68e243",
   "metadata": {},
   "source": [
    "#### 4. Hopsworks feature store"
   ]
  },
  {
   "cell_type": "code",
   "execution_count": 8,
   "id": "2845e187",
   "metadata": {},
   "outputs": [
    {
     "name": "stdout",
     "output_type": "stream",
     "text": [
      "Connected. Call `.close()` to terminate connection gracefully.\n",
      "\n",
      "Logged in to project, explore it here https://c.app.hopsworks.ai:443/p/467093\n",
      "Connected. Call `.close()` to terminate connection gracefully.\n"
     ]
    }
   ],
   "source": [
    "### Connecting to Hopsworks Feature Store\n",
    "\n",
    "\n",
    "hw_project = hopsworks.login(project=HOPSWORKS_PROJECT,api_key_value=HOPSWORKS_API_KEY)\n",
    "fs = hw_project.get_feature_store()"
   ]
  },
  {
   "cell_type": "code",
   "execution_count": 9,
   "id": "fdad554a",
   "metadata": {},
   "outputs": [],
   "source": [
    "### Create Feature Group\n",
    "\n",
    "fg = fs.get_or_create_feature_group(name=FEATURE_GROUP_NAME,\n",
    "                             description='Hourly data of taxi demand in NYC in TimeSeries format',\n",
    "                             version=FEATURE_GROUP_VERSION,\n",
    "                             primary_key=['pickup_hour','pickup_location_id'],\n",
    "                             event_time='pickup_hour')"
   ]
  },
  {
   "cell_type": "code",
   "execution_count": 10,
   "id": "92dff224",
   "metadata": {},
   "outputs": [
    {
     "name": "stdout",
     "output_type": "stream",
     "text": [
      "Feature Group created successfully, explore it at \n",
      "https://c.app.hopsworks.ai:443/p/467093/fs/462916/fg/529750\n"
     ]
    },
    {
     "data": {
      "application/vnd.jupyter.widget-view+json": {
       "model_id": "4f42b9efb643425c897169980bd3792e",
       "version_major": 2,
       "version_minor": 0
      },
      "text/plain": [
       "Uploading Dataframe: 0.00% |          | Rows 0/4395312 | Elapsed Time: 00:00 | Remaining Time: ?"
      ]
     },
     "metadata": {},
     "output_type": "display_data"
    },
    {
     "name": "stdout",
     "output_type": "stream",
     "text": [
      "Launching job: taxi_time_series_hourly_1_offline_fg_materialization\n",
      "Job started successfully, you can follow the progress at \n",
      "https://c.app.hopsworks.ai/p/467093/jobs/named/taxi_time_series_hourly_1_offline_fg_materialization/executions\n",
      "CPU times: user 3min 5s, sys: 15.2 s, total: 3min 20s\n",
      "Wall time: 3min 50s\n"
     ]
    },
    {
     "data": {
      "text/plain": [
       "(<hsfs.core.job.Job at 0x132330940>, None)"
      ]
     },
     "execution_count": 10,
     "metadata": {},
     "output_type": "execute_result"
    }
   ],
   "source": [
    "%%time\n",
    "\n",
    "### Insert data into Feature Group and wait till it finishes\n",
    "\n",
    "fg.insert(taxi_data_ts)"
   ]
  }
 ],
 "metadata": {
  "kernelspec": {
   "display_name": ".venv",
   "language": "python",
   "name": ".venv"
  },
  "language_info": {
   "codemirror_mode": {
    "name": "ipython",
    "version": 3
   },
   "file_extension": ".py",
   "mimetype": "text/x-python",
   "name": "python",
   "nbconvert_exporter": "python",
   "pygments_lexer": "ipython3",
   "version": "3.9.17"
  }
 },
 "nbformat": 4,
 "nbformat_minor": 5
}
